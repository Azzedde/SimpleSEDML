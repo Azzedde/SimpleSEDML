{
 "cells": [
  {
   "cell_type": "markdown",
   "id": "e373ebfe-6469-4661-9db4-74bc0fbff0a9",
   "metadata": {},
   "source": [
    "# EXPLORE SEDML"
   ]
  },
  {
   "cell_type": "code",
   "execution_count": 1,
   "id": "2c4f1fb3-a377-4f5e-890a-fd228e8f998f",
   "metadata": {},
   "outputs": [],
   "source": [
    "import tellurium as te\n",
    "te.setDefaultPlottingEngine('matplotlib')\n",
    "import phrasedml"
   ]
  },
  {
   "cell_type": "markdown",
   "id": "0c39bd15-8726-4423-8c6a-da164def9145",
   "metadata": {},
   "source": [
    "# phrasedml basics"
   ]
  },
  {
   "cell_type": "code",
   "execution_count": 2,
   "id": "b91e32f9-7bfd-4e55-a0fd-0d1970efd535",
   "metadata": {},
   "outputs": [],
   "source": [
    "antimony_str = '''\n",
    "model myModel\n",
    "  S1 -> S2; k1*S1\n",
    "  S1 = 10; S2 = 0\n",
    "  k1 = 1\n",
    "end\n",
    "'''"
   ]
  },
  {
   "cell_type": "code",
   "execution_count": 3,
   "id": "fb012062-46b2-4cc4-884a-d9521be8753e",
   "metadata": {},
   "outputs": [],
   "source": [
    "phrasedml_str = '''\n",
    "  model1 = model \"/tmp/myModel\" with k1 =5;\n",
    "  //model2 = model model1 with k1 =6\n",
    "  //sim1 = simulate uniform(0, 5, 100)\n",
    "  //task1 = run sim1 on model1\n",
    "  //plot \"Figure 2\" time vs S1, S2\n",
    "'''"
   ]
  },
  {
   "cell_type": "code",
   "execution_count": 4,
   "id": "054bf390-504b-4ad4-a218-d722cd69c54f",
   "metadata": {},
   "outputs": [
    {
     "name": "stdout",
     "output_type": "stream",
     "text": [
      "<?xml version=\"1.0\" encoding=\"UTF-8\"?>\n",
      "<!-- Created by phraSED-ML version v1.3.0 with libSBML version 5.19.5. -->\n",
      "<sedML xmlns=\"http://sed-ml.org/sed-ml/level1/version4\" xmlns:sbml=\"http://www.sbml.org/sbml/level3/version2/core\" level=\"1\" version=\"4\">\n",
      "  <listOfModels>\n",
      "    <model id=\"model1\" language=\"urn:sedml:language:sbml.level-3.version-2\" source=\"/tmp/myModel\">\n",
      "      <listOfChanges>\n",
      "        <changeAttribute target=\"/sbml:sbml/sbml:model/sbml:listOfParameters/sbml:parameter[@id='k1']/@value\" newValue=\"5\"/>\n",
      "      </listOfChanges>\n",
      "    </model>\n",
      "  </listOfModels>\n",
      "</sedML>\n",
      "\n"
     ]
    }
   ],
   "source": [
    "#plot \"Figure 1\" time vs S1, S2\n",
    "\n",
    "# create the sedml xml string from the phrasedml\n",
    "sbml_str = te.antimonyToSBML(antimony_str)\n",
    "phrasedml.setReferencedSBML(\"/tmp/myModel\", sbml_str)\n",
    "\n",
    "sedml_str = phrasedml.convertString(phrasedml_str)\n",
    "if sedml_str == None:\n",
    "    print(phrasedml.getLastError())\n",
    "print(sedml_str)"
   ]
  },
  {
   "cell_type": "code",
   "execution_count": 5,
   "id": "2121ac04-12e9-4ddf-a6cf-ecc86f4e0ab4",
   "metadata": {},
   "outputs": [
    {
     "name": "stdout",
     "output_type": "stream",
     "text": [
      "SBML written to temporary file\n"
     ]
    }
   ],
   "source": [
    "import tempfile, os, shutil\n",
    "\n",
    "workingDir = tempfile.mkdtemp(suffix=\"_sedml\")\n",
    "\n",
    "sbml_file = \"/tmp/myModel\"\n",
    "#sedml_file = os.path.join(workingDir, 'sed_main.xml')\n",
    "\n",
    "if True:\n",
    "    with open(sbml_file, 'wb') as f:\n",
    "        f.write(sbml_str.encode('utf-8'))\n",
    "        f.flush()\n",
    "        print('SBML written to temporary file')\n",
    "\n",
    "if False:\n",
    "    with open(sedml_file, 'wb') as f:\n",
    "        f.write(sedml_str.encode('utf-8'))\n",
    "        f.flush()\n",
    "        print('SED-ML written to temporary file')\n",
    "\n",
    "# For technical reasons, any software which uses libSEDML\n",
    "# must provide a custom build - Tellurium uses tesedml\n",
    "if False:\n",
    "    try:\n",
    "        import libsedml\n",
    "    except ImportError:\n",
    "        import tesedml as libsedml\n",
    "    sedml_doc = libsedml.readSedML(sedml_file)\n",
    "    n_errors = sedml_doc.getErrorLog().getNumFailsWithSeverity(libsedml.LIBSEDML_SEV_ERROR)\n",
    "    print('Read SED-ML file, number of errors: {}'.format(n_errors))\n",
    "    if n_errors > 0:\n",
    "        print(sedml_doc.getErrorLog().toString())\n",
    "\n",
    "# execute SED-ML using Tellurium\n",
    "#te.executeSEDML(sedml_str, workingDir=workingDir)\n",
    "te.executeSEDML(sedml_str)\n",
    "\n",
    "# clean up\n",
    "#shutil.rmtree(workingDir)"
   ]
  },
  {
   "cell_type": "code",
   "execution_count": 6,
   "id": "900aa37b-97e0-4898-92f7-e90ae7f5592a",
   "metadata": {},
   "outputs": [
    {
     "data": {
      "text/plain": [
       "\u001b[0;31mSignature:\u001b[0m\n",
       "\u001b[0mte\u001b[0m\u001b[0;34m.\u001b[0m\u001b[0mexecuteSEDML\u001b[0m\u001b[0;34m(\u001b[0m\u001b[0;34m\u001b[0m\n",
       "\u001b[0;34m\u001b[0m    \u001b[0minputStr\u001b[0m\u001b[0;34m,\u001b[0m\u001b[0;34m\u001b[0m\n",
       "\u001b[0;34m\u001b[0m    \u001b[0mworkingDir\u001b[0m\u001b[0;34m=\u001b[0m\u001b[0;32mNone\u001b[0m\u001b[0;34m,\u001b[0m\u001b[0;34m\u001b[0m\n",
       "\u001b[0;34m\u001b[0m    \u001b[0mcreateOutputs\u001b[0m\u001b[0;34m=\u001b[0m\u001b[0;32mTrue\u001b[0m\u001b[0;34m,\u001b[0m\u001b[0;34m\u001b[0m\n",
       "\u001b[0;34m\u001b[0m    \u001b[0msaveOutputs\u001b[0m\u001b[0;34m=\u001b[0m\u001b[0;32mFalse\u001b[0m\u001b[0;34m,\u001b[0m\u001b[0;34m\u001b[0m\n",
       "\u001b[0;34m\u001b[0m    \u001b[0moutputDir\u001b[0m\u001b[0;34m=\u001b[0m\u001b[0;32mNone\u001b[0m\u001b[0;34m,\u001b[0m\u001b[0;34m\u001b[0m\n",
       "\u001b[0;34m\u001b[0m    \u001b[0mplottingEngine\u001b[0m\u001b[0;34m=\u001b[0m\u001b[0;32mNone\u001b[0m\u001b[0;34m,\u001b[0m\u001b[0;34m\u001b[0m\n",
       "\u001b[0;34m\u001b[0m\u001b[0;34m)\u001b[0m\u001b[0;34m\u001b[0m\u001b[0;34m\u001b[0m\u001b[0m\n",
       "\u001b[0;31mDocstring:\u001b[0m\n",
       "Run a SED-ML file or combine archive with results.\n",
       "\n",
       "If a workingDir is provided the files and results are written in the workingDir.\n",
       "\n",
       ":param inputStr:\n",
       ":type inputStr:\n",
       ":return:\n",
       ":rtype:\n",
       "\u001b[0;31mFile:\u001b[0m      ~/home/Technical/repos/SimpleSEDML/ssed/lib/python3.9/site-packages/tellurium/sedml/tesedml.py\n",
       "\u001b[0;31mType:\u001b[0m      function"
      ]
     },
     "metadata": {},
     "output_type": "display_data"
    }
   ],
   "source": [
    "?te.executeSEDML"
   ]
  },
  {
   "cell_type": "markdown",
   "id": "55c97187-bfe7-4121-9dad-d8ef27a6fdd2",
   "metadata": {},
   "source": [
    "# Tasks for SimpleSEDML"
   ]
  },
  {
   "cell_type": "markdown",
   "id": "18cca7e8-7637-46b9-a74a-24aa0eb074ff",
   "metadata": {},
   "source": [
    "1. Run a simulation with changed parameter values\n",
    "2. Parameter scan\n",
    "3. Compare the output from two different models\n",
    "4. Compare simulation results with data"
   ]
  },
  {
   "cell_type": "markdown",
   "id": "d51723be-cc66-437a-aede-6807c498f8ab",
   "metadata": {},
   "source": [
    "# Repeated tasks in phrasedml"
   ]
  },
  {
   "cell_type": "code",
   "execution_count": 7,
   "id": "c53c2c65-c23a-43cb-9f5a-0614beb79a01",
   "metadata": {},
   "outputs": [
    {
     "name": "stdout",
     "output_type": "stream",
     "text": [
      "SBML written to temporary file\n"
     ]
    },
    {
     "data": {
      "image/png": "[encoded data removed]",
      "text/plain": [
       "<Figure size 900x600 with 1 Axes>"
      ]
     },
     "metadata": {},
     "output_type": "display_data"
    },
    {
     "data": {
      "image/png": "[encoded data removed]",
      "text/plain": [
       "<Figure size 900x600 with 1 Axes>"
      ]
     },
     "metadata": {},
     "output_type": "display_data"
    }
   ],
   "source": [
    "import tellurium as te\n",
    "import phrasedml\n",
    "\n",
    "# Define model with Antimony\n",
    "antimony_str = '''\n",
    "\n",
    "model anotherModel\n",
    "   A -> B; 1\n",
    "   A = 10\n",
    "   B = 1\n",
    "end\n",
    "\n",
    "model enzymeKinetics\n",
    "    // Compartment\n",
    "    compartment C = 1.0;\n",
    "    \n",
    "    // Species\n",
    "    species S in C = 10.0;\n",
    "    species E in C = 1.0;\n",
    "    species ES in C = 0.0;\n",
    "    species P in C = 0.0;\n",
    "    \n",
    "    // Reactions\n",
    "    J1: S + E -> ES; k1*S*E;\n",
    "    J2: ES -> S + E; k2*ES;\n",
    "    J3: ES -> P + E; k3*ES;\n",
    "    \n",
    "    // Parameters\n",
    "    k1 = 0.1;\n",
    "    k2 = 0.05;\n",
    "    k3 = 0.1;\n",
    "end\n",
    "'''\n",
    "\n",
    "# Convert to SBML\n",
    "sbml_str = te.antimonyToSBML(antimony_str)\n",
    "\n",
    "# Define PhraSEDML with repeated tasks for parameter sweep\n",
    "phrasedml_str = '''\n",
    "    // Reference the model\n",
    "    model1 = model \"enzymeKinetics\"\n",
    "    \n",
    "    // Define base simulation\n",
    "    sim1 = simulate uniform(0, 100, 100)\n",
    "    \n",
    "    // Define base task\n",
    "    task0 = run sim1 on model1\n",
    "    \n",
    "    // Define repeated task - vary k3 parameter\n",
    "    task1 = repeat task0 for k3 in [0.05, 0.1, 0.2, 0.5], reset=true\n",
    "    \n",
    "    // Plot results\n",
    "    plot \"Product formation with different k3 values\" task1.time vs task1.P\n",
    "    // Add model variable and parameter for reference in the legend\n",
    "    plot task1.time vs task1.S, task1.E, task1.ES, task1.k3\n",
    "'''\n",
    "\n",
    "\n",
    "workingDir = tempfile.mkdtemp(suffix=\"_sedml\")\n",
    "\n",
    "sbml_file = os.path.join(workingDir, 'enzymeKinetics')\n",
    "sedml_file = os.path.join(workingDir, 'sed_main.xml')\n",
    "\n",
    "with open(sbml_file, 'wb') as f:\n",
    "    f.write(sbml_str.encode('utf-8'))\n",
    "    f.flush()\n",
    "    print('SBML written to temporary file')\n",
    "\n",
    "# Set model reference\n",
    "phrasedml.setReferencedSBML(\"enzymeKinetics\", sbml_str)\n",
    "\n",
    "# Convert to SED-ML\n",
    "sedml_str = phrasedml.convertString(phrasedml_str)\n",
    "\n",
    "# Execute simulation\n",
    "if sedml_str:\n",
    "    te.executeSEDML(sedml_str, workingDir=workingDir)\n",
    "else:\n",
    "    print(phrasedml.getLastPhrasedError())"
   ]
  },
  {
   "cell_type": "code",
   "execution_count": 8,
   "id": "d8beca0e-1ae2-49b7-b174-8526fd9b2354",
   "metadata": {},
   "outputs": [
    {
     "data": {
      "text/plain": [
       "\u001b[0;31mSignature:\u001b[0m \u001b[0mphrasedml\u001b[0m\u001b[0;34m.\u001b[0m\u001b[0mconvertString\u001b[0m\u001b[0;34m(\u001b[0m\u001b[0mmodel\u001b[0m\u001b[0;34m)\u001b[0m\u001b[0;34m\u001b[0m\u001b[0;34m\u001b[0m\u001b[0m\n",
       "\u001b[0;31mDocstring:\u001b[0m\n",
       "Convert a model string from phraSEDML to SEDML, or visa versa.  If NULL is returned, an error occurred, which can be retrieved with\n",
       "@if python\n",
       "getLastError().\n",
       "@else\n",
       "getLastPhrasedError().\n",
       "@endif\n",
       "\n",
       "@return The converted model, as a string.\n",
       "\n",
       "@param model the model as a character string.  May be either SED-ML or phraSED-ML.\n",
       "\n",
       "@if python\n",
       "@see getLastError()\n",
       "@else\n",
       "@see getLastPhrasedError()\n",
       "@endif\n",
       "\u001b[0;31mFile:\u001b[0m      ~/home/Technical/repos/SimpleSEDML/ssed/lib/python3.9/site-packages/phrasedml/phrasedml.py\n",
       "\u001b[0;31mType:\u001b[0m      function"
      ]
     },
     "metadata": {},
     "output_type": "display_data"
    }
   ],
   "source": [
    "?phrasedml.convertString"
   ]
  },
  {
   "cell_type": "code",
   "execution_count": 9,
   "id": "2ff0e5e5-1666-4d42-b3bd-8ba4ed2e8eee",
   "metadata": {},
   "outputs": [
    {
     "name": "stdout",
     "output_type": "stream",
     "text": [
      "total 8\n",
      "-rw-r--r--  1 jlheller  staff  3182 Apr 25 12:03 enzymeKinetics\n"
     ]
    }
   ],
   "source": [
    "!ls -l /var/folders/02/lb248q1j50dch2pthzkvxmpr0000gn/T/tmp1zug2qoa_sedml"
   ]
  },
  {
   "cell_type": "code",
   "execution_count": 10,
   "id": "293cf405-4571-4332-9ac8-80f7bb291796",
   "metadata": {},
   "outputs": [
    {
     "data": {
      "image/png": "[encoded data removed]",
      "text/plain": [
       "<Figure size 600x400 with 1 Axes>"
      ]
     },
     "metadata": {},
     "output_type": "display_data"
    }
   ],
   "source": [
    "rr = te.loadSBMLModel(sbml_str)\n",
    "rr.simulate()\n",
    "rr.plot()"
   ]
  },
  {
   "cell_type": "code",
   "execution_count": 11,
   "id": "0bf12650-aa8f-484a-9044-44978e9793b6",
   "metadata": {},
   "outputs": [
    {
     "name": "stdout",
     "output_type": "stream",
     "text": [
      "\n",
      "    // Reference the model\n",
      "    model1 = model \"enzymeKinetics\"\n",
      "    \n",
      "    // Define base simulation\n",
      "    sim1 = simulate uniform(0, 100, 100)\n",
      "    \n",
      "    // Define base task\n",
      "    task0 = run sim1 on model1\n",
      "    \n",
      "    // Define repeated task - vary k3 parameter\n",
      "    task1 = repeat task0 for k3 in [0.05, 0.1, 0.2, 0.5], reset=true\n",
      "    \n",
      "    // Plot results\n",
      "    plot \"Product formation with different k3 values\" task1.time vs task1.P\n",
      "    // Add model variable and parameter for reference in the legend\n",
      "    plot task1.time vs task1.S, task1.E, task1.ES, task1.k3\n",
      "\n"
     ]
    }
   ],
   "source": [
    "print(phrasedml_str)"
   ]
  },
  {
   "cell_type": "code",
   "execution_count": 12,
   "id": "56585160-9974-40a0-87ee-4516063a3fd4",
   "metadata": {},
   "outputs": [
    {
     "name": "stdout",
     "output_type": "stream",
     "text": [
      "<?xml version=\"1.0\" encoding=\"UTF-8\"?>\n",
      "<!-- Created by phraSED-ML version v1.3.0 with libSBML version 5.19.5. -->\n",
      "<sedML xmlns=\"http://sed-ml.org/sed-ml/level1/version4\" xmlns:sbml=\"http://www.sbml.org/sbml/level3/version2/core\" level=\"1\" version=\"4\">\n",
      "  <listOfModels>\n",
      "    <model id=\"model1\" language=\"urn:sedml:language:sbml.level-3.version-2\" source=\"enzymeKinetics\"/>\n",
      "  </listOfModels>\n",
      "  <listOfSimulations>\n",
      "    <uniformTimeCourse id=\"sim1\" initialTime=\"0\" outputStartTime=\"0\" outputEndTime=\"100\" numberOfSteps=\"100\">\n",
      "      <algorithm name=\"CVODE\" kisaoID=\"KISAO:0000019\"/>\n",
      "    </uniformTimeCourse>\n",
      "  </listOfSimulations>\n",
      "  <listOfTasks>\n",
      "    <task id=\"task0\" modelReference=\"model1\" simulationReference=\"sim1\"/>\n",
      "    <repeatedTask id=\"task1\" range=\"vector_for_k3\" resetModel=\"true\">\n",
      "      <listOfRanges>\n",
      "        <vectorRange id=\"vector_for_k3\">\n",
      "          <value> 0.05 </value>\n",
      "          <value> 0.1 </value>\n",
      "          <value> 0.2 </value>\n",
      "          <value> 0.5 </value>\n",
      "        </vectorRange>\n",
      "      </listOfRanges>\n",
      "      <listOfChanges>\n",
      "        <setValue modelReference=\"model1\" target=\"/sbml:sbml/sbml:model/sbml:listOfParameters/sbml:parameter[@id='k3']\" range=\"vector_for_k3\">\n",
      "          <math xmlns=\"http://www.w3.org/1998/Math/MathML\">\n",
      "            <ci> vector_for_k3 </ci>\n",
      "          </math>\n",
      "        </setValue>\n",
      "      </listOfChanges>\n",
      "      <listOfSubTasks>\n",
      "        <subTask order=\"0\" task=\"task0\"/>\n",
      "      </listOfSubTasks>\n",
      "    </repeatedTask>\n",
      "  </listOfTasks>\n",
      "  <listOfDataGenerators>\n",
      "    <dataGenerator id=\"plot_0_0_0\" name=\"task1.time\">\n",
      "      <math xmlns=\"http://www.w3.org/1998/Math/MathML\">\n",
      "        <ci> task1_____time </ci>\n",
      "      </math>\n",
      "      <listOfVariables>\n",
      "        <variable id=\"task1_____time\" symbol=\"urn:sedml:symbol:time\" taskReference=\"task1\" modelReference=\"model1\"/>\n",
      "      </listOfVariables>\n",
      "    </dataGenerator>\n",
      "    <dataGenerator id=\"plot_0_0_1\" name=\"task1.P\">\n",
      "      <math xmlns=\"http://www.w3.org/1998/Math/MathML\">\n",
      "        <ci> task1_____P </ci>\n",
      "      </math>\n",
      "      <listOfVariables>\n",
      "        <variable id=\"task1_____P\" target=\"/sbml:sbml/sbml:model/sbml:listOfSpecies/sbml:species[@id='P']\" taskReference=\"task1\" modelReference=\"model1\"/>\n",
      "      </listOfVariables>\n",
      "    </dataGenerator>\n",
      "    <dataGenerator id=\"plot_1_0_1\" name=\"task1.S\">\n",
      "      <math xmlns=\"http://www.w3.org/1998/Math/MathML\">\n",
      "        <ci> task1_____S </ci>\n",
      "      </math>\n",
      "      <listOfVariables>\n",
      "        <variable id=\"task1_____S\" target=\"/sbml:sbml/sbml:model/sbml:listOfSpecies/sbml:species[@id='S']\" taskReference=\"task1\" modelReference=\"model1\"/>\n",
      "      </listOfVariables>\n",
      "    </dataGenerator>\n",
      "    <dataGenerator id=\"plot_1_1_1\" name=\"task1.E\">\n",
      "      <math xmlns=\"http://www.w3.org/1998/Math/MathML\">\n",
      "        <ci> task1_____E </ci>\n",
      "      </math>\n",
      "      <listOfVariables>\n",
      "        <variable id=\"task1_____E\" target=\"/sbml:sbml/sbml:model/sbml:listOfSpecies/sbml:species[@id='E']\" taskReference=\"task1\" modelReference=\"model1\"/>\n",
      "      </listOfVariables>\n",
      "    </dataGenerator>\n",
      "    <dataGenerator id=\"plot_1_2_1\" name=\"task1.ES\">\n",
      "      <math xmlns=\"http://www.w3.org/1998/Math/MathML\">\n",
      "        <ci> task1_____ES </ci>\n",
      "      </math>\n",
      "      <listOfVariables>\n",
      "        <variable id=\"task1_____ES\" target=\"/sbml:sbml/sbml:model/sbml:listOfSpecies/sbml:species[@id='ES']\" taskReference=\"task1\" modelReference=\"model1\"/>\n",
      "      </listOfVariables>\n",
      "    </dataGenerator>\n",
      "    <dataGenerator id=\"plot_1_3_1\" name=\"task1.k3\">\n",
      "      <math xmlns=\"http://www.w3.org/1998/Math/MathML\">\n",
      "        <ci> task1_____k3 </ci>\n",
      "      </math>\n",
      "      <listOfVariables>\n",
      "        <variable id=\"task1_____k3\" target=\"/sbml:sbml/sbml:model/sbml:listOfParameters/sbml:parameter[@id='k3']\" taskReference=\"task1\" modelReference=\"model1\"/>\n",
      "      </listOfVariables>\n",
      "    </dataGenerator>\n",
      "  </listOfDataGenerators>\n",
      "  <listOfOutputs>\n",
      "    <plot2D id=\"plot_0\" name=\"Product formation with different k3 values\">\n",
      "      <listOfCurves>\n",
      "        <curve id=\"plot_0__plot_0_0_0__plot_0_0_1\" logX=\"false\" xDataReference=\"plot_0_0_0\" logY=\"false\" yDataReference=\"plot_0_0_1\"/>\n",
      "      </listOfCurves>\n",
      "    </plot2D>\n",
      "    <plot2D id=\"plot_1\">\n",
      "      <listOfCurves>\n",
      "        <curve id=\"plot_1__plot_0_0_0__plot_1_0_1\" logX=\"false\" xDataReference=\"plot_0_0_0\" logY=\"false\" yDataReference=\"plot_1_0_1\"/>\n",
      "        <curve id=\"plot_1__plot_0_0_0__plot_1_1_1\" logX=\"false\" xDataReference=\"plot_0_0_0\" logY=\"false\" yDataReference=\"plot_1_1_1\"/>\n",
      "        <curve id=\"plot_1__plot_0_0_0__plot_1_2_1\" logX=\"false\" xDataReference=\"plot_0_0_0\" logY=\"false\" yDataReference=\"plot_1_2_1\"/>\n",
      "        <curve id=\"plot_1__plot_0_0_0__plot_1_3_1\" logX=\"false\" xDataReference=\"plot_0_0_0\" logY=\"false\" yDataReference=\"plot_1_3_1\"/>\n",
      "      </listOfCurves>\n",
      "    </plot2D>\n",
      "  </listOfOutputs>\n",
      "</sedML>\n",
      "\n"
     ]
    }
   ],
   "source": [
    "print(sedml_str)"
   ]
  },
  {
   "cell_type": "markdown",
   "id": "cc0fba05-8230-4164-bccb-a293fe64cd9e",
   "metadata": {},
   "source": [
    "# Using Phrasedml generated from Claude"
   ]
  },
  {
   "cell_type": "code",
   "execution_count": 13,
   "id": "9ad804f2-4172-4407-b7d4-4a358157bf8f",
   "metadata": {},
   "outputs": [
    {
     "name": "stdout",
     "output_type": "stream",
     "text": [
      "/Users/jlheller/home/Technical/repos/SBMLModel/data/BIOMD0000000206.xml\n"
     ]
    }
   ],
   "source": [
    "!ls /Users/jlheller/home/Technical/repos/SBMLModel/data/*206*"
   ]
  },
  {
   "cell_type": "code",
   "execution_count": 14,
   "id": "152b543e-1ddd-4d16-abf0-de40799da777",
   "metadata": {},
   "outputs": [],
   "source": [
    "# Step 1: Reference the model\n",
    "phrasedml.setWorkingDirectory(\"/Users/jlheller/home/Technical/repos/SBMLModel/data\")\n",
    "phrasedml_str = \"\"\"\n",
    "model1 = model \"BIOMD0000000206.xml\"\n",
    "sim1 = simulate uniform(0, 10, 100)  # 0 to 10 seconds with 100 time points\n",
    "task1 = run sim1 on model1\n",
    "plot \"BioModel 206 Simulation\" time vs s1, s5\n",
    "\"\"\""
   ]
  },
  {
   "cell_type": "code",
   "execution_count": 15,
   "id": "3e5551a5-ca60-4fb1-b1f7-2f35f564078a",
   "metadata": {},
   "outputs": [],
   "source": [
    "phrasedml_str = phrasedml.convertString(phrasedml_str)\n",
    "if len(phrasedml.getLastError()) > 0:\n",
    "    print(phrasedml.getLastError())"
   ]
  },
  {
   "cell_type": "markdown",
   "id": "5efb3448-5998-4f43-aebc-e345e8abf724",
   "metadata": {},
   "source": [
    "# Source is HTTP"
   ]
  },
  {
   "cell_type": "code",
   "execution_count": 16,
   "id": "b73a6a4c-c132-4122-82b4-3469e8cc83ef",
   "metadata": {},
   "outputs": [],
   "source": [
    "URL = \"https://www.ebi.ac.uk/biomodels/services/download/get-files/MODEL3352181362/3/BIOMD0000000206_url.xml\"\n",
    "MODEL = \"Wolf2000_Glycolytic_Oscillations\""
   ]
  },
  {
   "cell_type": "code",
   "execution_count": 17,
   "id": "29d936e8-ef77-44b1-8790-1e498776c45c",
   "metadata": {},
   "outputs": [],
   "source": [
    "rr = te.loadSBMLModel(URL)\n",
    "wolf_sbml_str = rr.getSBML()"
   ]
  },
  {
   "cell_type": "code",
   "execution_count": 18,
   "id": "48424a11-7e14-4b5e-b5de-0f2fb4622b48",
   "metadata": {},
   "outputs": [],
   "source": [
    "phrasedml_str = '''\n",
    "  model1 = model \"/tmp/myModel\"\n",
    "  sim1 = simulate uniform(0, 10, 100); sim1.algorithm=CVODE\n",
    "  task1 = run sim1 on model1\n",
    "  plot \"Figure 2\" time vs S1, S2\n",
    "'''"
   ]
  },
  {
   "cell_type": "code",
   "execution_count": 19,
   "id": "6bec7070-dfc5-4445-9efc-b98a8bd161f2",
   "metadata": {},
   "outputs": [
    {
     "name": "stdout",
     "output_type": "stream",
     "text": [
      "\n",
      "  model1 = model \"/tmp/myModel\"\n",
      "  sim1 = simulate uniform(0, 10, 100); sim1.algorithm=CVODE\n",
      "  task1 = run sim1 on model1\n",
      "  plot \"Figure 2\" time vs S1, S2\n",
      "\n"
     ]
    }
   ],
   "source": [
    "print(phrasedml_str)"
   ]
  },
  {
   "cell_type": "code",
   "execution_count": 20,
   "id": "8803a987-575a-4064-9fd6-08a34cefcaa6",
   "metadata": {},
   "outputs": [
    {
     "name": "stdout",
     "output_type": "stream",
     "text": [
      "<?xml version=\"1.0\" encoding=\"UTF-8\"?>\n",
      "<!-- Created by phraSED-ML version v1.3.0 with libSBML version 5.19.5. -->\n",
      "<sedML xmlns=\"http://sed-ml.org/sed-ml/level1/version4\" xmlns:sbml=\"http://www.sbml.org/sbml/level3/version2/core\" level=\"1\" version=\"4\">\n",
      "  <listOfModels>\n",
      "    <model id=\"model1\" language=\"urn:sedml:language:sbml.level-3.version-2\" source=\"/tmp/myModel\"/>\n",
      "  </listOfModels>\n",
      "  <listOfSimulations>\n",
      "    <uniformTimeCourse id=\"sim1\" initialTime=\"0\" outputStartTime=\"0\" outputEndTime=\"10\" numberOfSteps=\"100\">\n",
      "      <algorithm name=\"CVODE\" kisaoID=\"KISAO:0000019\"/>\n",
      "    </uniformTimeCourse>\n",
      "  </listOfSimulations>\n",
      "  <listOfTasks>\n",
      "    <task id=\"task1\" modelReference=\"model1\" simulationReference=\"sim1\"/>\n",
      "  </listOfTasks>\n",
      "  <listOfDataGenerators>\n",
      "    <dataGenerator id=\"plot_0_0_0\" name=\"time\">\n",
      "      <math xmlns=\"http://www.w3.org/1998/Math/MathML\">\n",
      "        <ci> time </ci>\n",
      "      </math>\n",
      "      <listOfVariables>\n",
      "        <variable id=\"time\" symbol=\"urn:sedml:symbol:time\" taskReference=\"task1\" modelReference=\"model1\"/>\n",
      "      </listOfVariables>\n",
      "    </dataGenerator>\n",
      "    <dataGenerator id=\"plot_0_0_1\" name=\"S1\">\n",
      "      <math xmlns=\"http://www.w3.org/1998/Math/MathML\">\n",
      "        <ci> S1 </ci>\n",
      "      </math>\n",
      "      <listOfVariables>\n",
      "        <variable id=\"S1\" target=\"/sbml:sbml/sbml:model/sbml:listOfSpecies/sbml:species[@id='S1']\" taskReference=\"task1\" modelReference=\"model1\"/>\n",
      "      </listOfVariables>\n",
      "    </dataGenerator>\n",
      "    <dataGenerator id=\"plot_0_1_1\" name=\"S2\">\n",
      "      <math xmlns=\"http://www.w3.org/1998/Math/MathML\">\n",
      "        <ci> S2 </ci>\n",
      "      </math>\n",
      "      <listOfVariables>\n",
      "        <variable id=\"S2\" target=\"/sbml:sbml/sbml:model/sbml:listOfSpecies/sbml:species[@id='S2']\" taskReference=\"task1\" modelReference=\"model1\"/>\n",
      "      </listOfVariables>\n",
      "    </dataGenerator>\n",
      "  </listOfDataGenerators>\n",
      "  <listOfOutputs>\n",
      "    <plot2D id=\"plot_0\" name=\"Figure 2\">\n",
      "      <listOfCurves>\n",
      "        <curve id=\"plot_0__plot_0_0_0__plot_0_0_1\" logX=\"false\" xDataReference=\"plot_0_0_0\" logY=\"false\" yDataReference=\"plot_0_0_1\"/>\n",
      "        <curve id=\"plot_0__plot_0_0_0__plot_0_1_1\" logX=\"false\" xDataReference=\"plot_0_0_0\" logY=\"false\" yDataReference=\"plot_0_1_1\"/>\n",
      "      </listOfCurves>\n",
      "    </plot2D>\n",
      "  </listOfOutputs>\n",
      "</sedML>\n",
      "\n"
     ]
    }
   ],
   "source": [
    "# create the sedml xml string from the phrasedml\n",
    "phrasedml.setReferencedSBML(MODEL, URL)\n",
    "\n",
    "sedml_str = phrasedml.convertString(phrasedml_str)\n",
    "if sedml_str == None:\n",
    "    print(phrasedml.getLastError())\n",
    "print(sedml_str)"
   ]
  },
  {
   "cell_type": "markdown",
   "id": "b2a3d8f8-0ef9-438c-b8f4-37c5b5b2efeb",
   "metadata": {},
   "source": [
    "# Report"
   ]
  },
  {
   "cell_type": "markdown",
   "id": "b256dbe2-f32c-4de4-bd65-4ce7688ceab5",
   "metadata": {},
   "source": [
    "## Simple report"
   ]
  },
  {
   "cell_type": "code",
   "execution_count": 21,
   "id": "6b83fabf-3cd3-44d5-8f89-7e2eb4dcee3d",
   "metadata": {},
   "outputs": [],
   "source": [
    "antimony_str = '''\n",
    "model myModel\n",
    "  S1 -> S2; k1*S1\n",
    "  S1 = 10; S2 = 0\n",
    "  k1 = 1\n",
    "end\n",
    "'''"
   ]
  },
  {
   "cell_type": "code",
   "execution_count": 22,
   "id": "8754b336-914d-4839-af29-0a8864bbc3ab",
   "metadata": {},
   "outputs": [
    {
     "name": "stdout",
     "output_type": "stream",
     "text": [
      "SBML written to temporary file\n"
     ]
    }
   ],
   "source": [
    "# FIXME: Must be written as bytes\n",
    "sbml_str = te.antimonyToSBML(antimony_str)\n",
    "with open(\"/tmp/myModel\", 'wb') as f:\n",
    "        f.write(sbml_str.encode('utf-8'))\n",
    "        f.flush()\n",
    "        print('SBML written to temporary file')"
   ]
  },
  {
   "cell_type": "code",
   "execution_count": 34,
   "id": "08b1175f-0fbe-45e4-a435-8328bb0cdacc",
   "metadata": {},
   "outputs": [],
   "source": [
    "# repeated_task = repeat task1 for k1 in [1, 3, 5], reset=true\n",
    "phrasedml_str = '''\n",
    "  model1 = model \"/tmp/myModel\"\n",
    "  sim1 = simulate uniform(0, 5, 100)\n",
    "  task1 = run sim1 on model1\n",
    "  //report task1.time, task1.S1, task1.S2\n",
    "  report \"Concentration over Time\" time, S1, S2\n",
    "'''"
   ]
  },
  {
   "cell_type": "code",
   "execution_count": 35,
   "id": "651c1e40-4c7d-418b-bff8-d9e740bfd4aa",
   "metadata": {},
   "outputs": [
    {
     "name": "stdout",
     "output_type": "stream",
     "text": [
      "<?xml version=\"1.0\" encoding=\"UTF-8\"?>\n",
      "<!-- Created by phraSED-ML version v1.3.0 with libSBML version 5.19.5. -->\n",
      "<sedML xmlns=\"http://sed-ml.org/sed-ml/level1/version4\" xmlns:sbml=\"http://www.sbml.org/sbml/level3/version2/core\" level=\"1\" version=\"4\">\n",
      "  <listOfModels>\n",
      "    <model id=\"model1\" language=\"urn:sedml:language:sbml.level-3.version-2\" source=\"/tmp/myModel\"/>\n",
      "  </listOfModels>\n",
      "  <listOfSimulations>\n",
      "    <uniformTimeCourse id=\"sim1\" initialTime=\"0\" outputStartTime=\"0\" outputEndTime=\"5\" numberOfSteps=\"100\">\n",
      "      <algorithm name=\"CVODE\" kisaoID=\"KISAO:0000019\"/>\n",
      "    </uniformTimeCourse>\n",
      "  </listOfSimulations>\n",
      "  <listOfTasks>\n",
      "    <task id=\"task1\" modelReference=\"model1\" simulationReference=\"sim1\"/>\n",
      "  </listOfTasks>\n",
      "  <listOfDataGenerators>\n",
      "    <dataGenerator id=\"report_0_0_0\" name=\"time\">\n",
      "      <math xmlns=\"http://www.w3.org/1998/Math/MathML\">\n",
      "        <ci> time </ci>\n",
      "      </math>\n",
      "      <listOfVariables>\n",
      "        <variable id=\"time\" symbol=\"urn:sedml:symbol:time\" taskReference=\"task1\" modelReference=\"model1\"/>\n",
      "      </listOfVariables>\n",
      "    </dataGenerator>\n",
      "    <dataGenerator id=\"report_0_0_1\" name=\"S1\">\n",
      "      <math xmlns=\"http://www.w3.org/1998/Math/MathML\">\n",
      "        <ci> S1 </ci>\n",
      "      </math>\n",
      "      <listOfVariables>\n",
      "        <variable id=\"S1\" target=\"/sbml:sbml/sbml:model/sbml:listOfSpecies/sbml:species[@id='S1']\" taskReference=\"task1\" modelReference=\"model1\"/>\n",
      "      </listOfVariables>\n",
      "    </dataGenerator>\n",
      "    <dataGenerator id=\"report_0_0_2\" name=\"S2\">\n",
      "      <math xmlns=\"http://www.w3.org/1998/Math/MathML\">\n",
      "        <ci> S2 </ci>\n",
      "      </math>\n",
      "      <listOfVariables>\n",
      "        <variable id=\"S2\" target=\"/sbml:sbml/sbml:model/sbml:listOfSpecies/sbml:species[@id='S2']\" taskReference=\"task1\" modelReference=\"model1\"/>\n",
      "      </listOfVariables>\n",
      "    </dataGenerator>\n",
      "  </listOfDataGenerators>\n",
      "  <listOfOutputs>\n",
      "    <report id=\"report_0\" name=\"Concentration over Time\">\n",
      "      <listOfDataSets>\n",
      "        <dataSet id=\"report_0_0_0_dataset\" label=\"time\" dataReference=\"report_0_0_0\"/>\n",
      "        <dataSet id=\"report_0_0_1_dataset\" label=\"S1\" dataReference=\"report_0_0_1\"/>\n",
      "        <dataSet id=\"report_0_0_2_dataset\" label=\"S2\" dataReference=\"report_0_0_2\"/>\n",
      "      </listOfDataSets>\n",
      "    </report>\n",
      "  </listOfOutputs>\n",
      "</sedML>\n",
      "\n",
      "     time         S1        S2\n",
      "0    0.00  10.000000  0.000000\n",
      "1    0.05   9.512295  0.487705\n",
      "2    0.10   9.048377  0.951623\n",
      "3    0.15   8.607083  1.392917\n",
      "4    0.20   8.187310  1.812690\n",
      "..    ...        ...       ...\n",
      "96   4.80   0.082292  9.917708\n",
      "97   4.85   0.078279  9.921721\n",
      "98   4.90   0.074461  9.925539\n",
      "99   4.95   0.070829  9.929171\n",
      "100  5.00   0.067375  9.932625\n",
      "\n",
      "[101 rows x 3 columns]\n"
     ]
    }
   ],
   "source": [
    "#plot \"Figure 1\" time vs S1, S2\n",
    "\n",
    "# create the sedml xml string from the phrasedml\n",
    "#phrasedml.setReferencedSBML(\"/tmp/myModel\", sbml_str)\n",
    "\n",
    "sedml_str = phrasedml.convertString(phrasedml_str)\n",
    "if sedml_str == None:\n",
    "    print(phrasedml.getLastError())\n",
    "else:\n",
    "    print(sedml_str)\n",
    "    phrasedml.setWorkingDirectory(os.getcwd())\n",
    "    te.executeSEDML(sedml_str)\n",
    "    print(te.getLastReport())"
   ]
  },
  {
   "cell_type": "code",
   "execution_count": 30,
   "id": "e754b86e-ab4d-4871-9cba-f8a9ff4a91f7",
   "metadata": {},
   "outputs": [
    {
     "data": {
      "text/plain": [
       "['DumpJSONInfo',\n",
       " 'LatexExport',\n",
       " 'ParameterEstimation',\n",
       " 'ParameterScan',\n",
       " 'ParameterScan2D',\n",
       " 'SBMLDiagram',\n",
       " 'SensitivityAnalysis',\n",
       " 'SteadyStateScan',\n",
       " 'StochasticSimulationModel',\n",
       " 'UncertaintyAllP',\n",
       " 'UncertaintySingleP',\n",
       " '__builtins__',\n",
       " '__cached__',\n",
       " '__doc__',\n",
       " '__file__',\n",
       " '__loader__',\n",
       " '__name__',\n",
       " '__package__',\n",
       " '__path__',\n",
       " '__set_model',\n",
       " '__spec__',\n",
       " '__version__',\n",
       " '__warningregistry__',\n",
       " 'absolute_import',\n",
       " 'addFileToCombineArchive',\n",
       " 'addFilesToCombineArchive',\n",
       " 'analysis',\n",
       " 'antimonyConverter',\n",
       " 'antimonyToCellML',\n",
       " 'antimonyToSBML',\n",
       " 'cellmlToAntimony',\n",
       " 'cellmlToSBML',\n",
       " 'clearTiledFigure',\n",
       " 'convertAndExecuteCombineArchive',\n",
       " 'convertCombineArchive',\n",
       " 'createCombineArchive',\n",
       " 'disablePlotting',\n",
       " 'distributed_parameter_scanning',\n",
       " 'distributed_sensitivity_analysis',\n",
       " 'distributed_stochastic_simulation',\n",
       " 'executeCombineArchive',\n",
       " 'executeInlineOmex',\n",
       " 'executeInlineOmexFromFile',\n",
       " 'executeSEDML',\n",
       " 'exportInlineOmex',\n",
       " 'extractFileFromCombineArchive',\n",
       " 'getAppDir',\n",
       " 'getDefaultPlottingEngine',\n",
       " 'getEigenvalues',\n",
       " 'getLastReport',\n",
       " 'getODEsFromModel',\n",
       " 'getODEsFromSBMLFile',\n",
       " 'getODEsFromSBMLString',\n",
       " 'getPlottingEngine',\n",
       " 'getSupportedTestCases',\n",
       " 'getTelluriumVersion',\n",
       " 'getTestModel',\n",
       " 'getVersionInfo',\n",
       " 'inlineOmex',\n",
       " 'listFiles',\n",
       " 'listTestModels',\n",
       " 'loadAntimonyModel',\n",
       " 'loadCellMLModel',\n",
       " 'loadSBMLModel',\n",
       " 'loadTestModel',\n",
       " 'loada',\n",
       " 'loads',\n",
       " 'model',\n",
       " 'newLowerTriFigure',\n",
       " 'newTiledFigure',\n",
       " 'nextFigure',\n",
       " 'noticesOff',\n",
       " 'noticesOn',\n",
       " 'nullspace',\n",
       " 'plot',\n",
       " 'plotArray',\n",
       " 'plotBifurcation',\n",
       " 'plotImage',\n",
       " 'plotWithLegend',\n",
       " 'plot_distributed_stochastic',\n",
       " 'plot_stochastic_result',\n",
       " 'plotting',\n",
       " 'printVersionInfo',\n",
       " 'rank',\n",
       " 'readFromFile',\n",
       " 'roadrunner',\n",
       " 'rref',\n",
       " 'runTool',\n",
       " 'sample_plot',\n",
       " 'saveToFile',\n",
       " 'sbmlToAntimony',\n",
       " 'sbmlToCellML',\n",
       " 'sedml',\n",
       " 'sedmlToPython',\n",
       " 'setDefaultPlottingEngine',\n",
       " 'setLastReport',\n",
       " 'setSavePlotsToPDF',\n",
       " 'show',\n",
       " 'teconverters',\n",
       " 'teio',\n",
       " 'tellurium',\n",
       " 'testcases',\n",
       " 'tiledFigure',\n",
       " 'utils',\n",
       " 'visualization']"
      ]
     },
     "execution_count": 30,
     "metadata": {},
     "output_type": "execute_result"
    }
   ],
   "source": [
    "dir(te)"
   ]
  },
  {
   "cell_type": "code",
   "execution_count": 31,
   "id": "47150f9a-9673-48b2-9eae-eec30e55867d",
   "metadata": {},
   "outputs": [
    {
     "name": "stdout",
     "output_type": "stream",
     "text": [
      "Object `te.experiment` not found.\n"
     ]
    }
   ],
   "source": [
    "?te.experiment"
   ]
  },
  {
   "cell_type": "markdown",
   "id": "3e9779d4-3124-4043-87be-0af98c7f8e06",
   "metadata": {},
   "source": [
    "## Repeated task"
   ]
  },
  {
   "cell_type": "code",
   "execution_count": 26,
   "id": "3c08bb0f-e3f0-4a5e-9ca8-4b4820fc8834",
   "metadata": {},
   "outputs": [],
   "source": [
    "# repeated_task = repeat task1 for k1 in [1, 3, 5], reset=true\n",
    "phrasedml_str = '''\n",
    "  model1 = model \"/tmp/myModel\"\n",
    "  sim1 = simulate uniform(0, 5, 100)\n",
    "  task1 = run sim1 on model1\n",
    "  repeated_task1 = repeat task1 for k1 in [1, 3, 5]\n",
    "  report repeated_task1.time, repeated_task1.S1, repeated_task1.S2\n",
    "'''"
   ]
  },
  {
   "cell_type": "code",
   "execution_count": 27,
   "id": "ea9b7d73-6615-4165-866e-bf02a544b8be",
   "metadata": {},
   "outputs": [
    {
     "name": "stdout",
     "output_type": "stream",
     "text": [
      "<?xml version=\"1.0\" encoding=\"UTF-8\"?>\n",
      "<!-- Created by phraSED-ML version v1.3.0 with libSBML version 5.19.5. -->\n",
      "<sedML xmlns=\"http://sed-ml.org/sed-ml/level1/version4\" xmlns:sbml=\"http://www.sbml.org/sbml/level3/version2/core\" level=\"1\" version=\"4\">\n",
      "  <listOfModels>\n",
      "    <model id=\"model1\" language=\"urn:sedml:language:sbml.level-3.version-2\" source=\"/tmp/myModel\"/>\n",
      "  </listOfModels>\n",
      "  <listOfSimulations>\n",
      "    <uniformTimeCourse id=\"sim1\" initialTime=\"0\" outputStartTime=\"0\" outputEndTime=\"5\" numberOfSteps=\"100\">\n",
      "      <algorithm name=\"CVODE\" kisaoID=\"KISAO:0000019\"/>\n",
      "    </uniformTimeCourse>\n",
      "  </listOfSimulations>\n",
      "  <listOfTasks>\n",
      "    <task id=\"task1\" modelReference=\"model1\" simulationReference=\"sim1\"/>\n",
      "    <repeatedTask id=\"repeated_task1\" range=\"vector_for_k1\" resetModel=\"false\">\n",
      "      <listOfRanges>\n",
      "        <vectorRange id=\"vector_for_k1\">\n",
      "          <value> 1 </value>\n",
      "          <value> 3 </value>\n",
      "          <value> 5 </value>\n",
      "        </vectorRange>\n",
      "      </listOfRanges>\n",
      "      <listOfChanges>\n",
      "        <setValue modelReference=\"model1\" target=\"/sbml:sbml/sbml:model/sbml:listOfParameters/sbml:parameter[@id='k1']\" range=\"vector_for_k1\">\n",
      "          <math xmlns=\"http://www.w3.org/1998/Math/MathML\">\n",
      "            <ci> vector_for_k1 </ci>\n",
      "          </math>\n",
      "        </setValue>\n",
      "      </listOfChanges>\n",
      "      <listOfSubTasks>\n",
      "        <subTask order=\"0\" task=\"task1\"/>\n",
      "      </listOfSubTasks>\n",
      "    </repeatedTask>\n",
      "  </listOfTasks>\n",
      "  <listOfDataGenerators>\n",
      "    <dataGenerator id=\"report_0_0_0\" name=\"repeated_task1.time\">\n",
      "      <math xmlns=\"http://www.w3.org/1998/Math/MathML\">\n",
      "        <ci> repeated_task1_____time </ci>\n",
      "      </math>\n",
      "      <listOfVariables>\n",
      "        <variable id=\"repeated_task1_____time\" symbol=\"urn:sedml:symbol:time\" taskReference=\"repeated_task1\" modelReference=\"model1\"/>\n",
      "      </listOfVariables>\n",
      "    </dataGenerator>\n",
      "    <dataGenerator id=\"report_0_0_1\" name=\"repeated_task1.S1\">\n",
      "      <math xmlns=\"http://www.w3.org/1998/Math/MathML\">\n",
      "        <ci> repeated_task1_____S1 </ci>\n",
      "      </math>\n",
      "      <listOfVariables>\n",
      "        <variable id=\"repeated_task1_____S1\" target=\"/sbml:sbml/sbml:model/sbml:listOfSpecies/sbml:species[@id='S1']\" taskReference=\"repeated_task1\" modelReference=\"model1\"/>\n",
      "      </listOfVariables>\n",
      "    </dataGenerator>\n",
      "    <dataGenerator id=\"report_0_0_2\" name=\"repeated_task1.S2\">\n",
      "      <math xmlns=\"http://www.w3.org/1998/Math/MathML\">\n",
      "        <ci> repeated_task1_____S2 </ci>\n",
      "      </math>\n",
      "      <listOfVariables>\n",
      "        <variable id=\"repeated_task1_____S2\" target=\"/sbml:sbml/sbml:model/sbml:listOfSpecies/sbml:species[@id='S2']\" taskReference=\"repeated_task1\" modelReference=\"model1\"/>\n",
      "      </listOfVariables>\n",
      "    </dataGenerator>\n",
      "  </listOfDataGenerators>\n",
      "  <listOfOutputs>\n",
      "    <report id=\"report_0\">\n",
      "      <listOfDataSets>\n",
      "        <dataSet id=\"report_0_0_0_dataset\" label=\"repeated_task1.time\" dataReference=\"report_0_0_0\"/>\n",
      "        <dataSet id=\"report_0_0_1_dataset\" label=\"repeated_task1.S1\" dataReference=\"report_0_0_1\"/>\n",
      "        <dataSet id=\"report_0_0_2_dataset\" label=\"repeated_task1.S2\" dataReference=\"report_0_0_2\"/>\n",
      "      </listOfDataSets>\n",
      "    </report>\n",
      "  </listOfOutputs>\n",
      "</sedML>\n",
      "\n",
      "     repeated_task1.time  repeated_task1.S1  repeated_task1.S2\n",
      "0                   0.00       1.000000e+01           0.000000\n",
      "1                   0.05       9.512295e+00           0.487705\n",
      "2                   0.10       9.048377e+00           0.951623\n",
      "3                   0.15       8.607083e+00           1.392917\n",
      "4                   0.20       8.187310e+00           1.812690\n",
      "..                   ...                ...                ...\n",
      "298                14.80       7.864200e-19          10.000000\n",
      "299                14.85       6.159003e-19          10.000000\n",
      "300                14.90       4.849269e-19          10.000000\n",
      "301                14.95       3.833158e-19          10.000000\n",
      "302                15.00       3.113106e-19          10.000000\n",
      "\n",
      "[303 rows x 3 columns]\n"
     ]
    }
   ],
   "source": [
    "#plot \"Figure 1\" time vs S1, S2\n",
    "\n",
    "# create the sedml xml string from the phrasedml\n",
    "#phrasedml.setReferencedSBML(\"/tmp/myModel\", sbml_str)\n",
    "\n",
    "sedml_str = phrasedml.convertString(phrasedml_str)\n",
    "if sedml_str == None:\n",
    "    print(phrasedml.getLastError())\n",
    "else:\n",
    "    print(sedml_str)\n",
    "    te.executeSEDML(sedml_str)\n",
    "    print(te.getLastReport())"
   ]
  },
  {
   "cell_type": "markdown",
   "id": "dd1ea173-45c0-4a9e-ae9f-dd7dbe820f73",
   "metadata": {},
   "source": [
    "# Notes"
   ]
  },
  {
   "cell_type": "markdown",
   "id": "ffa440f8-2bde-45ea-a9c1-0d786ec452d8",
   "metadata": {},
   "source": [
    "1. To execute sedml in Tellurium, need to put the model in an SBML format in a file in a specified working directory.\n",
    "2. It may be that some part of the sedml workflow fails if the model file has multiple models, that the last model is selected."
   ]
  }
 ],
 "metadata": {
  "kernelspec": {
   "display_name": "Python 3 (ipykernel)",
   "language": "python",
   "name": "python3"
  },
  "language_info": {
   "codemirror_mode": {
    "name": "ipython",
    "version": 3
   },
   "file_extension": ".py",
   "mimetype": "text/x-python",
   "name": "python",
   "nbconvert_exporter": "python",
   "pygments_lexer": "ipython3",
   "version": "3.9.6"
  }
 },
 "nbformat": 4,
 "nbformat_minor": 5
}
