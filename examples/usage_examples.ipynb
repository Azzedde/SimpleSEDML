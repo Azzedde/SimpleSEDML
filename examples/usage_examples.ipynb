{
 "cells": [
  {
   "cell_type": "markdown",
   "id": "9c7444c0-7ad5-4cd5-be79-f9e1eb5b23ab",
   "metadata": {},
   "source": [
    "# USAGE EXAMPLES FOR SIMPLESEDML"
   ]
  },
  {
   "cell_type": "markdown",
   "id": "fc13fb3a-8061-4b8c-aaec-232997ff33e1",
   "metadata": {},
   "source": [
    "This notebook provides examples of using ``SimpleSBML``."
   ]
  },
  {
   "cell_type": "code",
   "execution_count": 1,
   "id": "0f330deb-2c90-4af8-b04b-4c76b0799b79",
   "metadata": {},
   "outputs": [
    {
     "name": "stderr",
     "output_type": "stream",
     "text": [
      "/Users/jlheller/home/Technical/repos/SimpleSEDML/ssed/lib/python3.9/site-packages/urllib3/__init__.py:35: NotOpenSSLWarning: urllib3 v2 only supports OpenSSL 1.1.1+, currently the 'ssl' module is compiled with 'LibreSSL 2.8.3'. See: https://github.com/urllib3/urllib3/issues/3020\n",
      "  warnings.warn(\n"
     ]
    }
   ],
   "source": [
    "from src.simple_sedml import SimpleSEDML"
   ]
  },
  {
   "cell_type": "markdown",
   "id": "dcfc0f76-0f4b-4fe6-a6df-fd6e87e0c527",
   "metadata": {},
   "source": [
    "# Model"
   ]
  },
  {
   "cell_type": "code",
   "execution_count": 2,
   "id": "3f388d53-e0c8-466d-9752-2bf334c1a9b0",
   "metadata": {},
   "outputs": [],
   "source": [
    "MODEL_ANT = '''\n",
    "model myModel\n",
    "    J1: S1 -> S2; k1*S1\n",
    "    J2: S2 -> S3; k2*S2\n",
    "    \n",
    "    S1 = 10\n",
    "    S2 = 0\n",
    "    k1 = 1\n",
    "    k2 = 1\n",
    "end\n",
    "'''"
   ]
  },
  {
   "cell_type": "markdown",
   "id": "f7bea2af-c060-4d63-92fd-63e39c6c125c",
   "metadata": {},
   "source": [
    "# Basic Usage"
   ]
  },
  {
   "cell_type": "code",
   "execution_count": 3,
   "id": "808f0a80-1153-43a7-b8f3-6321df9200a8",
   "metadata": {},
   "outputs": [],
   "source": [
    "# Compose an experiment\n",
    "ssed = SimpleSEDML()\n",
    "ssed.addModel(\"model1\", MODEL_ANT, k1=3, ref_type=\"ant_str\", is_overwrite=True)\n",
    "ssed.addSimulation(\"sim1\", \"uniform\", start=0, end=1, num_step=50)\n",
    "ssed.addTask(\"task1\", \"model1\", \"sim1\")\n",
    "ssed.addReportVariables(\"time\", \"S1\", \"S2\", \"S3\")\n",
    "ssed.addPlot(\"time\", \"S2\", title=\"my plot\")"
   ]
  },
  {
   "cell_type": "code",
   "execution_count": 4,
   "id": "ff2b0e43-d698-4a86-bd1a-78b00b892d51",
   "metadata": {},
   "outputs": [
    {
     "data": {
      "image/png": "[encoded data removed]",
      "text/plain": [
       "<Figure size 900x600 with 1 Axes>"
      ]
     },
     "metadata": {},
     "output_type": "display_data"
    }
   ],
   "source": [
    "# Run the descript\n",
    "df = ssed.execute()"
   ]
  },
  {
   "cell_type": "code",
   "execution_count": 5,
   "id": "f53b87ac-55e9-4088-b491-762106bfb84c",
   "metadata": {},
   "outputs": [
    {
     "data": {
      "text/html": [
       "<div>\n",
       "<style scoped>\n",
       "    .dataframe tbody tr th:only-of-type {\n",
       "        vertical-align: middle;\n",
       "    }\n",
       "\n",
       "    .dataframe tbody tr th {\n",
       "        vertical-align: top;\n",
       "    }\n",
       "\n",
       "    .dataframe thead th {\n",
       "        text-align: right;\n",
       "    }\n",
       "</style>\n",
       "<table border=\"1\" class=\"dataframe\">\n",
       "  <thead>\n",
       "    <tr style=\"text-align: right;\">\n",
       "      <th></th>\n",
       "      <th>time</th>\n",
       "      <th>S1</th>\n",
       "      <th>S2</th>\n",
       "      <th>S3</th>\n",
       "    </tr>\n",
       "  </thead>\n",
       "  <tbody>\n",
       "    <tr>\n",
       "      <th>0</th>\n",
       "      <td>0.00</td>\n",
       "      <td>10.000000</td>\n",
       "      <td>0.000000</td>\n",
       "      <td>0.000000</td>\n",
       "    </tr>\n",
       "    <tr>\n",
       "      <th>1</th>\n",
       "      <td>0.02</td>\n",
       "      <td>9.417645</td>\n",
       "      <td>0.576512</td>\n",
       "      <td>0.005843</td>\n",
       "    </tr>\n",
       "    <tr>\n",
       "      <th>2</th>\n",
       "      <td>0.04</td>\n",
       "      <td>8.869204</td>\n",
       "      <td>1.108035</td>\n",
       "      <td>0.022761</td>\n",
       "    </tr>\n",
       "    <tr>\n",
       "      <th>3</th>\n",
       "      <td>0.06</td>\n",
       "      <td>8.352702</td>\n",
       "      <td>1.597415</td>\n",
       "      <td>0.049883</td>\n",
       "    </tr>\n",
       "    <tr>\n",
       "      <th>4</th>\n",
       "      <td>0.08</td>\n",
       "      <td>7.866278</td>\n",
       "      <td>2.047328</td>\n",
       "      <td>0.086394</td>\n",
       "    </tr>\n",
       "    <tr>\n",
       "      <th>5</th>\n",
       "      <td>0.10</td>\n",
       "      <td>7.408182</td>\n",
       "      <td>2.460289</td>\n",
       "      <td>0.131530</td>\n",
       "    </tr>\n",
       "    <tr>\n",
       "      <th>6</th>\n",
       "      <td>0.12</td>\n",
       "      <td>6.976762</td>\n",
       "      <td>2.838663</td>\n",
       "      <td>0.184575</td>\n",
       "    </tr>\n",
       "    <tr>\n",
       "      <th>7</th>\n",
       "      <td>0.14</td>\n",
       "      <td>6.570467</td>\n",
       "      <td>3.184674</td>\n",
       "      <td>0.244860</td>\n",
       "    </tr>\n",
       "    <tr>\n",
       "      <th>8</th>\n",
       "      <td>0.16</td>\n",
       "      <td>6.187832</td>\n",
       "      <td>3.500409</td>\n",
       "      <td>0.311759</td>\n",
       "    </tr>\n",
       "    <tr>\n",
       "      <th>9</th>\n",
       "      <td>0.18</td>\n",
       "      <td>5.827481</td>\n",
       "      <td>3.787832</td>\n",
       "      <td>0.384687</td>\n",
       "    </tr>\n",
       "  </tbody>\n",
       "</table>\n",
       "</div>"
      ],
      "text/plain": [
       "   time         S1        S2        S3\n",
       "0  0.00  10.000000  0.000000  0.000000\n",
       "1  0.02   9.417645  0.576512  0.005843\n",
       "2  0.04   8.869204  1.108035  0.022761\n",
       "3  0.06   8.352702  1.597415  0.049883\n",
       "4  0.08   7.866278  2.047328  0.086394\n",
       "5  0.10   7.408182  2.460289  0.131530\n",
       "6  0.12   6.976762  2.838663  0.184575\n",
       "7  0.14   6.570467  3.184674  0.244860\n",
       "8  0.16   6.187832  3.500409  0.311759\n",
       "9  0.18   5.827481  3.787832  0.384687"
      ]
     },
     "execution_count": 5,
     "metadata": {},
     "output_type": "execute_result"
    }
   ],
   "source": [
    "df.head(10)"
   ]
  },
  {
   "cell_type": "code",
   "execution_count": 6,
   "id": "d4e42e6c-d4f3-4aea-b35e-35695c74d955",
   "metadata": {},
   "outputs": [
    {
     "data": {
      "text/plain": [
       "[['k1', 'k2']]"
      ]
     },
     "execution_count": 6,
     "metadata": {},
     "output_type": "execute_result"
    }
   ],
   "source": [
    "ssed.getGlobalParameters()"
   ]
  }
 ],
 "metadata": {
  "kernelspec": {
   "display_name": "Python 3 (ipykernel)",
   "language": "python",
   "name": "python3"
  },
  "language_info": {
   "codemirror_mode": {
    "name": "ipython",
    "version": 3
   },
   "file_extension": ".py",
   "mimetype": "text/x-python",
   "name": "python",
   "nbconvert_exporter": "python",
   "pygments_lexer": "ipython3",
   "version": "3.9.6"
  }
 },
 "nbformat": 4,
 "nbformat_minor": 5
}
